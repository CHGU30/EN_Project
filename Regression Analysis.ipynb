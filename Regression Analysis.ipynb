{
 "cells": [
  {
   "cell_type": "code",
   "execution_count": 1,
   "id": "456bff4b",
   "metadata": {},
   "outputs": [
    {
     "name": "stdout",
     "output_type": "stream",
     "text": [
      "                            OLS Regression Results                            \n",
      "==============================================================================\n",
      "Dep. Variable:               Quantity   R-squared:                       0.923\n",
      "Model:                            OLS   Adj. R-squared:                  0.916\n",
      "Method:                 Least Squares   F-statistic:                     131.9\n",
      "Date:                Wed, 08 Nov 2023   Prob (F-statistic):           5.64e-13\n",
      "Time:                        23:00:25   Log-Likelihood:                -105.68\n",
      "No. Observations:                  25   AIC:                             217.4\n",
      "Df Residuals:                      22   BIC:                             221.0\n",
      "Df Model:                           2                                         \n",
      "Covariance Type:            nonrobust                                         \n",
      "================================================================================\n",
      "                   coef    std err          t      P>|t|      [0.025      0.975]\n",
      "--------------------------------------------------------------------------------\n",
      "const           26.9471     10.151      2.655      0.014       5.896      47.999\n",
      "Import_Price  4.125e-06   2.13e-06      1.933      0.066   -3.01e-07    8.55e-06\n",
      "Real_GDP      1.191e-06   1.83e-07      6.519      0.000    8.12e-07    1.57e-06\n",
      "==============================================================================\n",
      "Omnibus:                        2.032   Durbin-Watson:                   0.262\n",
      "Prob(Omnibus):                  0.362   Jarque-Bera (JB):                1.540\n",
      "Skew:                          -0.598   Prob(JB):                        0.463\n",
      "Kurtosis:                       2.779   Cond. No.                     2.79e+08\n",
      "==============================================================================\n",
      "\n",
      "Notes:\n",
      "[1] Standard Errors assume that the covariance matrix of the errors is correctly specified.\n",
      "[2] The condition number is large, 2.79e+08. This might indicate that there are\n",
      "strong multicollinearity or other numerical problems.\n"
     ]
    }
   ],
   "source": [
    "import pandas as pd\n",
    "import numpy as np\n",
    "import statsmodels.api as sm\n",
    "\n",
    "# Load your dataset into a DataFrame\n",
    "\n",
    "data = pd.read_csv('newdata.csv')\n",
    "\n",
    "# Create a time series DataFrame with date as the index\n",
    "\n",
    "data['Year'] = pd.to_datetime(data['Year'], format='%Y')\n",
    "data.set_index('Year', inplace=True)\n",
    "\n",
    "# Define the dependent and independent variables\n",
    "# 'Quantity' is the dependent variable, 'Price' and 'Real_GDP' are independent variables\n",
    "y = data['Quantity']\n",
    "X = data[['Import_Price', 'Real_GDP']]\n",
    "\n",
    "# Add a constant to the independent variables\n",
    "X = sm.add_constant(X)\n",
    "\n",
    "# Fit the time series regression model\n",
    "model = sm.OLS(y, X).fit()\n",
    "\n",
    "# Print the summary of the regression\n",
    "print(model.summary())\n"
   ]
  },
  {
   "cell_type": "code",
   "execution_count": 2,
   "id": "d5ae1564",
   "metadata": {},
   "outputs": [
    {
     "name": "stdout",
     "output_type": "stream",
     "text": [
      "ADF Statistic: -1.2394639576209647\n",
      "p-value: 0.6563932132562008\n",
      "Critical Values:\n",
      "  1%: -3.769732625845229\n",
      "  5%: -3.005425537190083\n",
      "  10%: -2.6425009917355373\n",
      "The time series is non-stationary (fail to reject the null hypothesis of a unit root).\n"
     ]
    }
   ],
   "source": [
    "import pandas as pd\n",
    "from statsmodels.tsa.stattools import adfuller\n",
    "\n",
    "# Load your time series data into a pandas Series or DataFrame\n",
    "\n",
    "data = pd.read_csv('newdata.csv')\n",
    "\n",
    "\n",
    "ts = data['Quantity']\n",
    "\n",
    "# Perform the ADF test\n",
    "result = adfuller(ts)\n",
    "\n",
    "# Extract and print the ADF test results\n",
    "adf_statistic, p_value, _, _, adf_critical_values, _ = result\n",
    "\n",
    "print(f'ADF Statistic: {adf_statistic}')\n",
    "print(f'p-value: {p_value}')\n",
    "print('Critical Values:')\n",
    "for key, value in adf_critical_values.items():\n",
    "    print(f'  {key}: {value}')\n",
    "    \n",
    "# Interpret the results\n",
    "if p_value <= 0.05:\n",
    "    print('The time series is stationary (reject the null hypothesis of a unit root).')\n",
    "else:\n",
    "    print('The time series is non-stationary (fail to reject the null hypothesis of a unit root).')\n"
   ]
  }
 ],
 "metadata": {
  "kernelspec": {
   "display_name": "Python 3 (ipykernel)",
   "language": "python",
   "name": "python3"
  },
  "language_info": {
   "codemirror_mode": {
    "name": "ipython",
    "version": 3
   },
   "file_extension": ".py",
   "mimetype": "text/x-python",
   "name": "python",
   "nbconvert_exporter": "python",
   "pygments_lexer": "ipython3",
   "version": "3.11.2"
  }
 },
 "nbformat": 4,
 "nbformat_minor": 5
}
